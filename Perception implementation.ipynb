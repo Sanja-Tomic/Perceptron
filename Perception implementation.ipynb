{
 "cells": [
  {
   "cell_type": "markdown",
   "metadata": {},
   "source": [
    "# Help functions"
   ]
  },
  {
   "cell_type": "markdown",
   "metadata": {},
   "source": [
    "Part of help functions relies on python pseudo random number generator.\n",
    "\n",
    "- **dot_product** takes two vectors and returns their the dot_product\n",
    "- **random_sample** takes three integers as input and returns the unique list of random integers in the asked interval\n",
    "- **shuffle_list** takes a list and returns the list shuffled."
   ]
  },
  {
   "cell_type": "code",
   "execution_count": 1,
   "metadata": {},
   "outputs": [],
   "source": [
    "import random\n",
    "def dot_product(vector_a,vector_b):\n",
    "    if len(vector_a)!=len(vector_b): \n",
    "        print (\"Error: vector of different lengths\")\n",
    "        return False\n",
    "    return sum([vector_a[i]*vector_b[i] for i in range(len(vector_a))])\n",
    " \n",
    "#note that lower upper limit is included\n",
    "def random_sample(lower_limit,upper_limit,sample_size):\n",
    "    if sample_size > (upper_limit-lower_limit):\n",
    "        print (\"The size is \")\n",
    "    random_set=set([])\n",
    "    random_list=[]\n",
    "    while(len(random_set)<sample_size):\n",
    "        a=random.randint(lower_limit,upper_limit)\n",
    "        if a not in random_set:\n",
    "            random_set.add(a)\n",
    "            random_list.append(a)     \n",
    "    return(random_list)\n",
    "\n",
    "def shuffle_list(a_list):\n",
    "    list_indices=list(range(len(a_list)))\n",
    "    list_of_final_indices=[]\n",
    "    for i in range(len(a_list)):\n",
    "        current_choice=random.choice(list_indices)\n",
    "        list_of_final_indices.append(current_choice)\n",
    "        list_indices.remove(current_choice)\n",
    "    return [a_list[i] for i in list_of_final_indices]\n",
    "    "
   ]
  },
  {
   "cell_type": "markdown",
   "metadata": {},
   "source": [
    "# Loading the data"
   ]
  },
  {
   "cell_type": "markdown",
   "metadata": {},
   "source": [
    "**load_data_with_ones** takes a file with two comma separated numeric columns (coordinates on the real plane) and a second file with one numeric column.\n",
    "\n",
    "The function returns list with four columns\n",
    "- column 1 is made of ones for easier calculation of half step prediciton\n",
    "- column 2 is the first column from the file with the data, $x_1$\n",
    "- column 3 is the second column from the file with the data, $x_2$\n",
    "- column 4 is the column with classes\n"
   ]
  },
  {
   "cell_type": "code",
   "execution_count": 2,
   "metadata": {},
   "outputs": [],
   "source": [
    "def load_data_with_ones(training_data,training_class):\n",
    "\n",
    "    train_data_file=open(training_data)\n",
    "    train_data_file_lines=train_data_file.readlines()\n",
    "    train_data_file.close()\n",
    "    train_class_file=open(training_class)\n",
    "    train_class_file_lines=train_class_file.readlines()\n",
    "    train_class_file.close()\n",
    "    data_list=[]\n",
    "    for i in range(len(train_data_file_lines)):\n",
    "        temp_list=[1]\n",
    "        temp_line=train_data_file_lines[i].strip(\"\\n\")\n",
    "        for j in train_data_file_lines[i].split(\",\"):\n",
    "            temp_list.append(j)\n",
    "        temp_list=[float(i) for i in temp_list]\n",
    "        temp_line=train_class_file_lines[i].strip(\"\\n\")\n",
    "        temp_list.append(float(temp_line))\n",
    "        data_list.append(temp_list)\n",
    "    return data_list\n"
   ]
  },
  {
   "cell_type": "markdown",
   "metadata": {},
   "source": [
    "# Implementation of Perceptron algorithm with Stochastic Gradient Descent"
   ]
  },
  {
   "cell_type": "markdown",
   "metadata": {},
   "source": [
    "**unit_step_prediction** takes a single data point $(x_1,x_2)$ and a set of weights and returns predictions of its class\n",
    "\n",
    "**learn_weigths** takes a train dataset, and two parameters, learning rate $\\eta$ $(0<\\eta<1)$ and epoch. It returns learned weigths.\n",
    "\n",
    "**evaluation_metrics** takes a test dataset and learned weigths and returns the rate of success for the classification with the current weigths\n"
   ]
  },
  {
   "cell_type": "code",
   "execution_count": 45,
   "metadata": {},
   "outputs": [],
   "source": [
    "def unit_step_prediction(data_row, weigths):\n",
    "    z=dot_product(data_row,weigths)\n",
    "    if z>=0:\n",
    "        return 1\n",
    "    else:\n",
    "        return -1\n",
    "\n",
    "def learn_weigths(data, epoch_num, learning_rate):\n",
    "    weigths=[random.random()*random.choice([-1,1]) for i in range(len(data[0])-1)]\n",
    "    for epoch in range(epoch_num):\n",
    "        data=shuffle_list(data)\n",
    "        number_of_missclassified=0\n",
    "        for data_row in data:\n",
    "            difference = unit_step_prediction(data_row[0:3],weigths)-data_row[3]\n",
    "            if difference!=0:\n",
    "                number_of_missclassified+=1\n",
    "            for i in range(len(weigths)):\n",
    "                weigths[i]=weigths[i]-difference*data_row[i]*learning_rate\n",
    "        print(\"Epoch: %d\" % (epoch+1), \"Learning rate: %.2f\" % learning_rate, \"Success rate: %.2f %%\" % ((1-number_of_missclassified/len(data))*100))\n",
    "    return weigths\n",
    "\n",
    "def evaluation_metrics(test_data,calculated_weigths):\n",
    "    num_all=len(test_data)\n",
    "    num_true=0\n",
    "    for test_row in test_data:\n",
    "        if test_row[3]==unit_step_prediction(test_row[0:3],calculated_weigths):\n",
    "            num_true+=1\n",
    "    return (num_true)/num_all*100"
   ]
  },
  {
   "cell_type": "markdown",
   "metadata": {},
   "source": [
    "# Main program"
   ]
  },
  {
   "cell_type": "code",
   "execution_count": 61,
   "metadata": {},
   "outputs": [
    {
     "name": "stdout",
     "output_type": "stream",
     "text": [
      "Epoch: 1 Learning rate: 0.10 Success rate: 98.00 %\n",
      "Epoch: 2 Learning rate: 0.10 Success rate: 100.00 %\n",
      "Epoch: 3 Learning rate: 0.10 Success rate: 100.00 %\n",
      "Epoch: 4 Learning rate: 0.10 Success rate: 100.00 %\n",
      "Epoch: 5 Learning rate: 0.10 Success rate: 100.00 %\n",
      "Epoch: 6 Learning rate: 0.10 Success rate: 100.00 %\n",
      "Epoch: 7 Learning rate: 0.10 Success rate: 100.00 %\n",
      "Epoch: 8 Learning rate: 0.10 Success rate: 100.00 %\n",
      "Epoch: 9 Learning rate: 0.10 Success rate: 100.00 %\n",
      "Epoch: 10 Learning rate: 0.10 Success rate: 100.00 %\n",
      "Evaluated success of the classifier is 100.00 %\n"
     ]
    }
   ],
   "source": [
    "#load the data\n",
    "data_with_ones=load_data_with_ones(\"linsep-traindata.csv\",\"linsep-trainclass.csv\")\n",
    "#select the random sample to learn weigths\n",
    "train_sample_indices=random_sample(0,99, 90)\n",
    "shuffled_train_sample=[data_with_ones[i]for i in train_sample_indices]\n",
    "test_sample=[data_with_ones[i] for i in range(0,100) if i not in shuffled_train_sample]\n",
    "#learn weigths\n",
    "new_weigths=learn_weigths(data_with_ones,10,0.1)\n",
    "#evaluate the classifier\n",
    "print(\"Evaluated success of the classifier is %.2f %%\" % (evaluation_metrics(test_sample,new_weigths)))"
   ]
  },
  {
   "cell_type": "markdown",
   "metadata": {},
   "source": [
    "# Comments and questions\n"
   ]
  },
  {
   "cell_type": "markdown",
   "metadata": {},
   "source": [
    "- Should the provided sample be split into the train sample and the test sample, or the test sample should be subset of the train sample? \n",
    "- Should the sample be shuffled in each epoch?\n",
    "- Does the learning with the subset of the whole sample destroy the balnce of classes for training?\n",
    "- Is it enough to evaluate the function with a simple ratio success/all? \n"
   ]
  },
  {
   "cell_type": "markdown",
   "metadata": {},
   "source": [
    "# References\n"
   ]
  },
  {
   "cell_type": "markdown",
   "metadata": {},
   "source": [
    "1. https://sebastianraschka.com/Articles/2015_singlelayer_neurons.html#the-unit-step-function"
   ]
  },
  {
   "cell_type": "code",
   "execution_count": null,
   "metadata": {},
   "outputs": [],
   "source": []
  }
 ],
 "metadata": {
  "kernelspec": {
   "display_name": "Python 3",
   "language": "python",
   "name": "python3"
  },
  "language_info": {
   "codemirror_mode": {
    "name": "ipython",
    "version": 3
   },
   "file_extension": ".py",
   "mimetype": "text/x-python",
   "name": "python",
   "nbconvert_exporter": "python",
   "pygments_lexer": "ipython3",
   "version": "3.6.4"
  }
 },
 "nbformat": 4,
 "nbformat_minor": 2
}
